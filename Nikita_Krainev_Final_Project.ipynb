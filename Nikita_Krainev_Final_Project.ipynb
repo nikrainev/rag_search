{
 "cells": [
  {
   "cell_type": "code",
   "execution_count": 1,
   "outputs": [
    {
     "name": "stderr",
     "output_type": "stream",
     "text": [
      "2024-12-15 02:57:26,895 (__init__.py:1241 MainThread) ERROR - TeleBot: \"Threaded polling exception: A request to the Telegram API was unsuccessful. Error code: 409. Description: Conflict: terminated by other getUpdates request; make sure that only one bot instance is running\"\n",
      "2024-12-15 02:57:26,904 (__init__.py:1243 MainThread) ERROR - TeleBot: \"Exception traceback:\n",
      "Traceback (most recent call last):\n",
      "  File \"/Library/Python/3.9/site-packages/telebot/__init__.py\", line 1234, in __threaded_polling\n",
      "    polling_thread.raise_exceptions()\n",
      "  File \"/Library/Python/3.9/site-packages/telebot/util.py\", line 111, in raise_exceptions\n",
      "    raise self.exception_info\n",
      "  File \"/Library/Python/3.9/site-packages/telebot/util.py\", line 93, in run\n",
      "    task(*args, **kwargs)\n",
      "  File \"/Library/Python/3.9/site-packages/telebot/__init__.py\", line 688, in __retrieve_updates\n",
      "    updates = self.get_updates(offset=(self.last_update_id + 1),\n",
      "  File \"/Library/Python/3.9/site-packages/telebot/__init__.py\", line 660, in get_updates\n",
      "    json_updates = apihelper.get_updates(\n",
      "  File \"/Library/Python/3.9/site-packages/telebot/apihelper.py\", line 332, in get_updates\n",
      "    return _make_request(token, method_url, params=payload)\n",
      "  File \"/Library/Python/3.9/site-packages/telebot/apihelper.py\", line 168, in _make_request\n",
      "    json_result = _check_result(method_name, result)\n",
      "  File \"/Library/Python/3.9/site-packages/telebot/apihelper.py\", line 195, in _check_result\n",
      "    raise ApiTelegramException(method_name, result, result_json)\n",
      "telebot.apihelper.ApiTelegramException: A request to the Telegram API was unsuccessful. Error code: 409. Description: Conflict: terminated by other getUpdates request; make sure that only one bot instance is running\n",
      "\"\n",
      "2024-12-15 02:57:30,501 (__init__.py:1241 MainThread) ERROR - TeleBot: \"Threaded polling exception: A request to the Telegram API was unsuccessful. Error code: 409. Description: Conflict: terminated by other getUpdates request; make sure that only one bot instance is running\"\n",
      "2024-12-15 02:57:30,504 (__init__.py:1243 MainThread) ERROR - TeleBot: \"Exception traceback:\n",
      "Traceback (most recent call last):\n",
      "  File \"/Library/Python/3.9/site-packages/telebot/__init__.py\", line 1234, in __threaded_polling\n",
      "    polling_thread.raise_exceptions()\n",
      "  File \"/Library/Python/3.9/site-packages/telebot/util.py\", line 111, in raise_exceptions\n",
      "    raise self.exception_info\n",
      "  File \"/Library/Python/3.9/site-packages/telebot/util.py\", line 93, in run\n",
      "    task(*args, **kwargs)\n",
      "  File \"/Library/Python/3.9/site-packages/telebot/__init__.py\", line 688, in __retrieve_updates\n",
      "    updates = self.get_updates(offset=(self.last_update_id + 1),\n",
      "  File \"/Library/Python/3.9/site-packages/telebot/__init__.py\", line 660, in get_updates\n",
      "    json_updates = apihelper.get_updates(\n",
      "  File \"/Library/Python/3.9/site-packages/telebot/apihelper.py\", line 332, in get_updates\n",
      "    return _make_request(token, method_url, params=payload)\n",
      "  File \"/Library/Python/3.9/site-packages/telebot/apihelper.py\", line 168, in _make_request\n",
      "    json_result = _check_result(method_name, result)\n",
      "  File \"/Library/Python/3.9/site-packages/telebot/apihelper.py\", line 195, in _check_result\n",
      "    raise ApiTelegramException(method_name, result, result_json)\n",
      "telebot.apihelper.ApiTelegramException: A request to the Telegram API was unsuccessful. Error code: 409. Description: Conflict: terminated by other getUpdates request; make sure that only one bot instance is running\n",
      "\"\n",
      "2024-12-15 02:57:34,574 (__init__.py:1241 MainThread) ERROR - TeleBot: \"Threaded polling exception: A request to the Telegram API was unsuccessful. Error code: 409. Description: Conflict: terminated by other getUpdates request; make sure that only one bot instance is running\"\n",
      "2024-12-15 02:57:34,576 (__init__.py:1243 MainThread) ERROR - TeleBot: \"Exception traceback:\n",
      "Traceback (most recent call last):\n",
      "  File \"/Library/Python/3.9/site-packages/telebot/__init__.py\", line 1234, in __threaded_polling\n",
      "    polling_thread.raise_exceptions()\n",
      "  File \"/Library/Python/3.9/site-packages/telebot/util.py\", line 111, in raise_exceptions\n",
      "    raise self.exception_info\n",
      "  File \"/Library/Python/3.9/site-packages/telebot/util.py\", line 93, in run\n",
      "    task(*args, **kwargs)\n",
      "  File \"/Library/Python/3.9/site-packages/telebot/__init__.py\", line 688, in __retrieve_updates\n",
      "    updates = self.get_updates(offset=(self.last_update_id + 1),\n",
      "  File \"/Library/Python/3.9/site-packages/telebot/__init__.py\", line 660, in get_updates\n",
      "    json_updates = apihelper.get_updates(\n",
      "  File \"/Library/Python/3.9/site-packages/telebot/apihelper.py\", line 332, in get_updates\n",
      "    return _make_request(token, method_url, params=payload)\n",
      "  File \"/Library/Python/3.9/site-packages/telebot/apihelper.py\", line 168, in _make_request\n",
      "    json_result = _check_result(method_name, result)\n",
      "  File \"/Library/Python/3.9/site-packages/telebot/apihelper.py\", line 195, in _check_result\n",
      "    raise ApiTelegramException(method_name, result, result_json)\n",
      "telebot.apihelper.ApiTelegramException: A request to the Telegram API was unsuccessful. Error code: 409. Description: Conflict: terminated by other getUpdates request; make sure that only one bot instance is running\n",
      "\"\n",
      "2024-12-15 02:57:35,692 (__init__.py:1121 MainThread) ERROR - TeleBot: \"Infinity polling: polling exited\"\n",
      "2024-12-15 02:57:35,693 (__init__.py:1123 MainThread) ERROR - TeleBot: \"Break infinity polling\"\n"
     ]
    }
   ],
   "source": [
    "import json\n",
    "from yandex_gpt import YandexGpt\n",
    "from chroma_db import ChromaClient\n",
    "\n",
    "yandexGpt = YandexGpt()\n",
    "chroma_client = ChromaClient()\n",
    "\n",
    "def perform_message(chat_id:int, text:str):\n",
    "    return \n",
    "\n",
    "def handler(event, context):\n",
    "    if event.get('body') is not None:\n",
    "        message = json.loads(event['body'])\n",
    "        message = message['message']\n",
    "        chat_id = message['chat']['id']\n",
    "        text = message.get('text')\n",
    "        perform_message(chat_id, text)\n",
    "    return {\n",
    "        'statusCode': 200\n",
    "    }"
   ],
   "metadata": {
    "collapsed": false,
    "ExecuteTime": {
     "end_time": "2024-12-14T23:57:35.705757Z",
     "start_time": "2024-12-14T23:54:40.586003Z"
    }
   },
   "id": "3d92f068e4e53735"
  },
  {
   "cell_type": "code",
   "execution_count": 2,
   "outputs": [],
   "source": [],
   "metadata": {
    "collapsed": false,
    "ExecuteTime": {
     "end_time": "2024-12-14T23:31:52.567320Z",
     "start_time": "2024-12-14T23:31:52.562789Z"
    }
   },
   "id": "b04eeb5f6fb0ac0e"
  },
  {
   "cell_type": "code",
   "execution_count": 2,
   "outputs": [],
   "source": [],
   "metadata": {
    "collapsed": false,
    "ExecuteTime": {
     "end_time": "2024-12-14T23:31:52.570852Z",
     "start_time": "2024-12-14T23:31:52.567195Z"
    }
   },
   "id": "329d302e8e4a9dbc"
  }
 ],
 "metadata": {
  "kernelspec": {
   "display_name": "Python 3",
   "language": "python",
   "name": "python3"
  },
  "language_info": {
   "codemirror_mode": {
    "name": "ipython",
    "version": 2
   },
   "file_extension": ".py",
   "mimetype": "text/x-python",
   "name": "python",
   "nbconvert_exporter": "python",
   "pygments_lexer": "ipython2",
   "version": "2.7.6"
  }
 },
 "nbformat": 4,
 "nbformat_minor": 5
}
