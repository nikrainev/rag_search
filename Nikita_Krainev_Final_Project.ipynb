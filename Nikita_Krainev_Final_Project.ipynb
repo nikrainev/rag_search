{
 "cells": [
  {
   "cell_type": "code",
   "execution_count": null,
   "outputs": [
    {
     "name": "stdout",
     "output_type": "stream",
     "text": [
      "{'available': False, 'notAvailabilityReason': 'Это бан. Обратитесь к администратору для искупления вины'}\n"
     ]
    }
   ],
   "source": [
    "from providers.yandex_gpt import YandexGpt\n",
    "from providers.chroma_db import ChromaClient\n",
    "import telebot\n",
    "from providers.config import get_config\n",
    "from services.files_service import  on_get_new_file_message\n",
    "from services.requests_service import perform_user_query, list_indexed_files\n",
    "from providers.admin_api import send_create_user, check_rate_limit\n",
    "\n",
    "yandexGpt = YandexGpt()\n",
    "chroma_client = ChromaClient()\n",
    "\n",
    "config = get_config()\n",
    "bot=telebot.TeleBot(config.get('bot_token'))\n",
    "\n",
    "@bot.message_handler(commands=['start'])\n",
    "def start_message(message):\n",
    "    send_create_user(message.chat.id, message.from_user.username, message.from_user.is_premium)\n",
    "    bot.send_message(message.chat.id,\"Привет ✌️ . Отправьте мне файлы в формате PDF или CSV (с помощью функции прикрепить документ), и я полностью их изучу. Для поиска по файлам просто отправьте текстовое сообщение с вопросом. Для просмотра списка проиндексированных файлов отправьте /list_docs\")\n",
    "    pass\n",
    "\n",
    "@bot.message_handler(commands=['list_docs'])\n",
    "def list_files(message):\n",
    "    result = list_indexed_files(message.chat.id, chroma_client)\n",
    "    bot.send_message(message.chat.id, result)\n",
    "    pass\n",
    "\n",
    "@bot.message_handler(content_types=['document'])\n",
    "def doc_message(message):\n",
    "    result = check_rate_limit(message.chat.id)\n",
    "    \n",
    "    if result.get('isAvailable'):\n",
    "        on_get_new_file_message(bot, message.chat.id, message.document.mime_type, message.document.file_id, message.document.file_name, yandexGpt, chroma_client)\n",
    "    else:\n",
    "        bot.send_message(message.chat.id, result.get('errorText'))\n",
    "    pass\n",
    "\n",
    "@bot.message_handler(func=lambda message: True)\n",
    "def text_message(message):\n",
    "    if  message.text != '/list_docs':\n",
    "        rateLimitRes = check_rate_limit(message.chat.id)\n",
    "\n",
    "        if rateLimitRes.get('isAvailable'):\n",
    "            result = perform_user_query(message.chat.id, message.text, yandexGpt, chroma_client)\n",
    "            bot.send_message(message.chat.id, result)\n",
    "        else:\n",
    "            bot.send_message(message.chat.id, rateLimitRes.get('errorText'))\n",
    "    pass\n",
    "\n",
    "\n",
    "bot.infinity_polling()"
   ],
   "metadata": {
    "collapsed": false,
    "is_executing": true,
    "ExecuteTime": {
     "start_time": "2024-12-18T12:54:41.180945Z"
    }
   },
   "id": "3d92f068e4e53735"
  },
  {
   "cell_type": "code",
   "execution_count": null,
   "outputs": [],
   "source": [],
   "metadata": {
    "collapsed": false,
    "is_executing": true
   },
   "id": "b04eeb5f6fb0ac0e"
  },
  {
   "cell_type": "code",
   "execution_count": null,
   "outputs": [],
   "source": [],
   "metadata": {
    "collapsed": false,
    "is_executing": true
   },
   "id": "329d302e8e4a9dbc"
  }
 ],
 "metadata": {
  "kernelspec": {
   "display_name": "Python 3",
   "language": "python",
   "name": "python3"
  },
  "language_info": {
   "codemirror_mode": {
    "name": "ipython",
    "version": 2
   },
   "file_extension": ".py",
   "mimetype": "text/x-python",
   "name": "python",
   "nbconvert_exporter": "python",
   "pygments_lexer": "ipython2",
   "version": "2.7.6"
  }
 },
 "nbformat": 4,
 "nbformat_minor": 5
}
